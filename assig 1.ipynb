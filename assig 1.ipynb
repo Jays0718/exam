{
 "cells": [
  {
   "cell_type": "code",
   "execution_count": 31,
   "id": "867e8896",
   "metadata": {},
   "outputs": [
    {
     "name": "stdout",
     "output_type": "stream",
     "text": [
      "1\n",
      "2\n",
      "3\n",
      "4\n",
      "5\n",
      "6\n",
      "7\n",
      "8\n",
      "9\n",
      "10\n"
     ]
    }
   ],
   "source": [
    "i=1\n",
    "while i<11:\n",
    "    print(i)\n",
    "    i=i+1\n",
    "    "
   ]
  },
  {
   "cell_type": "code",
   "execution_count": 17,
   "id": "1911c0e5",
   "metadata": {},
   "outputs": [
    {
     "name": "stdout",
     "output_type": "stream",
     "text": [
      "1 X 10 = 10\n",
      "2 X 10 = 20\n",
      "3 X 10 = 30\n",
      "4 X 10 = 40\n",
      "5 X 10 = 50\n",
      "6 X 10 = 60\n",
      "7 X 10 = 70\n",
      "8 X 10 = 80\n",
      "9 X 10 = 90\n",
      "10 X 10 = 100\n"
     ]
    }
   ],
   "source": [
    "#Q!\n",
    "i = 1\n",
    "while i <=10:\n",
    "    print(i,'X 10 =',i*10)\n",
    "    i = i+ 1\n",
    "\n"
   ]
  },
  {
   "cell_type": "code",
   "execution_count": 21,
   "id": "ff9fd9d3",
   "metadata": {},
   "outputs": [
    {
     "name": "stdout",
     "output_type": "stream",
     "text": [
      "  1 1 1 1 \n",
      "    1 1 1 \n",
      "      1 1 \n",
      "        1 \n"
     ]
    }
   ],
   "source": [
    "#Q2\n",
    "n = 4\n",
    "for i in range(n):\n",
    "    for j in range(i+1):\n",
    "        print(\" \", end = \" \")\n",
    "    for j in range(i,n):\n",
    "        print(\"1\", end = \" \")\n",
    "    print()"
   ]
  },
  {
   "cell_type": "code",
   "execution_count": 36,
   "id": "971f0ec2",
   "metadata": {},
   "outputs": [
    {
     "name": "stdout",
     "output_type": "stream",
     "text": [
      "10\n"
     ]
    }
   ],
   "source": [
    "#Q3\n",
    "num = 5\n",
    "\n",
    "sum = 0\n",
    "for i in range(num):\n",
    "    sum = sum+i\n",
    "print(sum)\n",
    "        \n"
   ]
  },
  {
   "cell_type": "code",
   "execution_count": 40,
   "id": "37ab9b35",
   "metadata": {},
   "outputs": [
    {
     "name": "stdout",
     "output_type": "stream",
     "text": [
      "enter the number10\n",
      "10 X  1 = 10\n",
      "10 X  2 = 20\n",
      "10 X  3 = 30\n",
      "10 X  4 = 40\n",
      "10 X  5 = 50\n",
      "10 X  6 = 60\n",
      "10 X  7 = 70\n",
      "10 X  8 = 80\n",
      "10 X  9 = 90\n",
      "10 X  10 = 100\n"
     ]
    }
   ],
   "source": [
    "#Q4\n",
    "table = int(input(\"enter the number\"))\n",
    "i =1\n",
    "while i <= 10:\n",
    "    print(table,'X ',i,'=', i*table )\n",
    "    i = i+ 1\n",
    "\n"
   ]
  },
  {
   "cell_type": "code",
   "execution_count": 44,
   "id": "7dbfe248",
   "metadata": {},
   "outputs": [
    {
     "name": "stdout",
     "output_type": "stream",
     "text": [
      "12\n",
      "13\n",
      "14\n",
      "15\n",
      "16\n",
      "17\n",
      "180\n"
     ]
    }
   ],
   "source": [
    "#Q5\n",
    "list = [12,13,14,15,16,17,180]\n",
    "for i in (list):\n",
    "    print(i)\n",
    "    i = i+1"
   ]
  },
  {
   "cell_type": "code",
   "execution_count": 4,
   "id": "cfe4a0f9",
   "metadata": {},
   "outputs": [
    {
     "name": "stdout",
     "output_type": "stream",
     "text": [
      "6\n"
     ]
    }
   ],
   "source": [
    "#Q6\n",
    "num = 123456\n",
    "print(len(str(num)))"
   ]
  },
  {
   "cell_type": "code",
   "execution_count": null,
   "id": "13d938c9",
   "metadata": {},
   "outputs": [],
   "source": []
  },
  {
   "cell_type": "code",
   "execution_count": 50,
   "id": "e9e6b4ca",
   "metadata": {},
   "outputs": [
    {
     "name": "stdout",
     "output_type": "stream",
     "text": [
      "List before reverse :  [1, 2, 3, 4, 5]\n",
      "List after reverse :  [5, 4, 3, 2, 1]\n"
     ]
    }
   ],
   "source": [
    "#8\n",
    "original_list = [1, 2, 3, 4, 5]\n",
    "print(\"List before reverse : \",original_list)\n",
    "reversed_list = []\n",
    "for value in original_list:\n",
    "    reversed_list = [value] + reversed_list\n",
    "print(\"List after reverse : \", reversed_list)\n"
   ]
  },
  {
   "cell_type": "code",
   "execution_count": 68,
   "id": "223c6454",
   "metadata": {},
   "outputs": [
    {
     "data": {
      "text/plain": [
       "[1, 2, 3, 4, 5, 6, 7, 8, 9, 10, 11]"
      ]
     },
     "execution_count": 68,
     "metadata": {},
     "output_type": "execute_result"
    }
   ],
   "source": [
    "ol = []\n",
    "i = 0\n",
    "for i in range(1,12):\n",
    "    ol.append(i)\n",
    "    i = i+1\n",
    "ol"
   ]
  },
  {
   "cell_type": "code",
   "execution_count": 11,
   "id": "146ac245",
   "metadata": {},
   "outputs": [
    {
     "name": "stdout",
     "output_type": "stream",
     "text": [
      "-10 -9 -8 -7 -6 -5 -4 -3 -2 -1 "
     ]
    }
   ],
   "source": [
    "#9 \n",
    "for i in range(-10,0):\n",
    "    print(i,end=\" \")"
   ]
  },
  {
   "cell_type": "code",
   "execution_count": 73,
   "id": "f9d30f26",
   "metadata": {},
   "outputs": [
    {
     "name": "stdout",
     "output_type": "stream",
     "text": [
      "done\n"
     ]
    }
   ],
   "source": [
    "#10\n",
    "n =  6\n",
    "if n<5:\n",
    "    print(\"not done\")\n",
    "else:\n",
    "    print(\"done\")"
   ]
  },
  {
   "cell_type": "code",
   "execution_count": 48,
   "id": "51d73ba7",
   "metadata": {},
   "outputs": [
    {
     "name": "stdout",
     "output_type": "stream",
     "text": [
      "not prime\n"
     ]
    }
   ],
   "source": [
    "#11\n",
    "num = 45\n",
    "for i in range(2,num):\n",
    "    if num % i == 0:\n",
    "        print(\"not prime\")\n",
    "        break\n",
    "else:\n",
    "    print(\"prime\")"
   ]
  },
  {
   "cell_type": "code",
   "execution_count": 16,
   "id": "6a75ff74",
   "metadata": {},
   "outputs": [
    {
     "name": "stdout",
     "output_type": "stream",
     "text": [
      "0\n",
      "1\n",
      "1\n",
      "2\n",
      "3\n",
      "5\n",
      "8\n",
      "13\n",
      "21\n",
      "34\n"
     ]
    }
   ],
   "source": [
    "#12\n",
    "num = 10\n",
    "a=0\n",
    "b=1\n",
    "print(a)\n",
    "print(b)\n",
    "for i in range(2,num):\n",
    "    c = a+b\n",
    "    a=b\n",
    "    b=c\n",
    "    print(c)\n",
    "    \n",
    " "
   ]
  },
  {
   "cell_type": "code",
   "execution_count": 80,
   "id": "720d263c",
   "metadata": {},
   "outputs": [
    {
     "name": "stdout",
     "output_type": "stream",
     "text": [
      "Enter a number:5\n",
      "Factorial of the given number is:  120\n"
     ]
    }
   ],
   "source": [
    "#13\n",
    "n = int(input(\"Enter a number:\"))\n",
    "factorial = 1\n",
    "if n >= 1:\n",
    "    for i in range (1, n+1):\n",
    "        factorial = factorial *i\n",
    "print (\"Factorial of the given number is: \", factorial)\n"
   ]
  },
  {
   "cell_type": "code",
   "execution_count": 50,
   "id": "1bc35efc",
   "metadata": {},
   "outputs": [
    {
     "name": "stdout",
     "output_type": "stream",
     "text": [
      "Reversed Number: 432\n"
     ]
    }
   ],
   "source": [
    "#14 \n",
    "num = 234\n",
    "reversed_num = 0\n",
    "\n",
    "while num != 0:\n",
    "    digit = num % 10\n",
    "    reversed_num = reversed_num * 10 + digit\n",
    "    num //= 10\n",
    "\n",
    "print(\"Reversed Number: \" + str(reversed_num))"
   ]
  },
  {
   "cell_type": "code",
   "execution_count": null,
   "id": "6c3ff74b",
   "metadata": {},
   "outputs": [],
   "source": [
    "# 16\n"
   ]
  },
  {
   "cell_type": "code",
   "execution_count": 57,
   "id": "2793be36",
   "metadata": {},
   "outputs": [
    {
     "name": "stdout",
     "output_type": "stream",
     "text": [
      "55.0\n"
     ]
    }
   ],
   "source": [
    "#17\n",
    "num = 10\n",
    "sum = (num*(num+1))/2\n",
    "print(sum)"
   ]
  },
  {
   "cell_type": "code",
   "execution_count": 56,
   "id": "74ce7fb8",
   "metadata": {},
   "outputs": [
    {
     "name": "stdout",
     "output_type": "stream",
     "text": [
      "The elements in odd positions are : \n",
      "42\n",
      "34\n",
      "0\n",
      "1\n"
     ]
    }
   ],
   "source": [
    "my_list = [31, 42, 13, 34, 85, 0, 99, 1, 3]\n",
    "print(\"The elements in odd positions are : \")\n",
    "for i in range(1, len(my_list), 2):\n",
    "    print(my_list[i])"
   ]
  }
 ],
 "metadata": {
  "kernelspec": {
   "display_name": "Python 3 (ipykernel)",
   "language": "python",
   "name": "python3"
  },
  "language_info": {
   "codemirror_mode": {
    "name": "ipython",
    "version": 3
   },
   "file_extension": ".py",
   "mimetype": "text/x-python",
   "name": "python",
   "nbconvert_exporter": "python",
   "pygments_lexer": "ipython3",
   "version": "3.10.9"
  }
 },
 "nbformat": 4,
 "nbformat_minor": 5
}
